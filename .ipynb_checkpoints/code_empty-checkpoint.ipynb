{
 "cells": [
  {
   "cell_type": "markdown",
   "metadata": {
    "colab_type": "text",
    "id": "furYNSqvb1B_"
   },
   "source": [
    "Task 1 - Install Spark, load required libraries, set environment variables, initiate Spark, load file"
   ]
  },
  {
   "cell_type": "code",
   "execution_count": 3,
   "metadata": {
    "colab": {},
    "colab_type": "code",
    "executionInfo": {
     "elapsed": 17982,
     "status": "ok",
     "timestamp": 1599732269634,
     "user": {
      "displayName": "Nikunj Maheshwari",
      "photoUrl": "https://lh3.googleusercontent.com/a-/AOh14GgFTeUJI71hSP6APSghiMPmAv_EjWY0lwlTo7zC4Q=s64",
      "userId": "13893016344591572574"
     },
     "user_tz": -60
    },
    "id": "lh5NCoc8fsSO"
   },
   "outputs": [],
   "source": [
    "!apt-get install openjdk-8-jdk-headless -qq > /dev/null\n",
    "!wget -q https://downloads.apache.org/spark/spark-2.4.6/spark-2.4.6-bin-hadoop2.7.tgz\n",
    "!tar xf spark-2.4.6-bin-hadoop2.7.tgz\n"
   ]
  },
  {
   "cell_type": "code",
   "execution_count": 28,
   "metadata": {},
   "outputs": [
    {
     "data": {
      "text/html": [
       "<style>pre { white-space: pre !important; }</style>"
      ],
      "text/plain": [
       "<IPython.core.display.HTML object>"
      ]
     },
     "metadata": {},
     "output_type": "display_data"
    }
   ],
   "source": [
    "from IPython.display import display, HTML\n",
    "display(HTML(\"<style>pre { white-space: pre !important; }</style>\"))"
   ]
  },
  {
   "cell_type": "code",
   "execution_count": 29,
   "metadata": {},
   "outputs": [],
   "source": [
    "spark.conf.set(\"spark.sql.repl.eagerEval.enabled\", True)"
   ]
  },
  {
   "cell_type": "code",
   "execution_count": 30,
   "metadata": {},
   "outputs": [],
   "source": [
    "!pip install -q findspark"
   ]
  },
  {
   "cell_type": "code",
   "execution_count": 31,
   "metadata": {
    "colab": {},
    "colab_type": "code",
    "executionInfo": {
     "elapsed": 914,
     "status": "ok",
     "timestamp": 1599732270877,
     "user": {
      "displayName": "Nikunj Maheshwari",
      "photoUrl": "https://lh3.googleusercontent.com/a-/AOh14GgFTeUJI71hSP6APSghiMPmAv_EjWY0lwlTo7zC4Q=s64",
      "userId": "13893016344591572574"
     },
     "user_tz": -60
    },
    "id": "v1b8k_OVf2QF"
   },
   "outputs": [],
   "source": [
    "# import os\n",
    "# os.environ[\"JAVA_HOME\"] = \"/usr/lib/jvm/java-8-openjdk-amd64\"\n",
    "# os.environ[\"SPARK_HOME\"] = \"/content/spark-2.4.6-bin-hadoop2.7\"\n",
    "import findspark\n",
    "findspark.init()\n",
    "# from google.colab import files\n",
    "# files.upload()\n",
    "from pyspark.sql import SparkSession\n",
    "from pyspark.ml.feature import VectorAssembler\n",
    "from pyspark.sql.functions import isnan, when, count, col, lit\n",
    "from pyspark.ml.regression import RandomForestRegressor\n",
    "from pyspark.ml.evaluation import RegressionEvaluator\n",
    "from pyspark.ml import Pipeline\n",
    "from pyspark.ml.tuning import CrossValidator\n",
    "from pyspark.ml.evaluation import RegressionEvaluator\n",
    "from pyspark.ml.tuning import ParamGridBuilder\n"
   ]
  },
  {
   "cell_type": "code",
   "execution_count": 32,
   "metadata": {},
   "outputs": [],
   "source": [
    "spark=SparkSession.builder.master('local[*]').getOrCreate()"
   ]
  },
  {
   "cell_type": "code",
   "execution_count": 33,
   "metadata": {},
   "outputs": [
    {
     "name": "stdout",
     "output_type": "stream",
     "text": [
      " Volume in drive C is Windows-SSD\n",
      " Volume Serial Number is 86BF-C434\n",
      "\n",
      " Directory of C:\\Users\\trand\\OneDrive\\Documents\\Projects\\Data Pipeline with Pyspark\n",
      "\n",
      "04/16/2023  07:55 AM    <DIR>          .\n",
      "04/16/2023  07:13 AM    <DIR>          ..\n",
      "04/16/2023  07:25 AM    <DIR>          .idea\n",
      "04/16/2023  07:19 AM    <DIR>          .ipynb_checkpoints\n",
      "04/16/2023  07:55 AM            22,879 code_empty.ipynb\n",
      "04/16/2023  07:29 AM         1,475,504 data.csv\n",
      "               2 File(s)      1,498,383 bytes\n",
      "               4 Dir(s)  375,940,571,136 bytes free\n"
     ]
    }
   ],
   "source": [
    "!dir"
   ]
  },
  {
   "cell_type": "code",
   "execution_count": 34,
   "metadata": {},
   "outputs": [],
   "source": [
    "data=spark.read.csv('data.csv',inferSchema=True, header=True)"
   ]
  },
  {
   "cell_type": "code",
   "execution_count": 35,
   "metadata": {},
   "outputs": [
    {
     "name": "stdout",
     "output_type": "stream",
     "text": [
      "root\n",
      " |-- Make: string (nullable = true)\n",
      " |-- Model: string (nullable = true)\n",
      " |-- Year: integer (nullable = true)\n",
      " |-- Engine Fuel Type: string (nullable = true)\n",
      " |-- Engine HP: integer (nullable = true)\n",
      " |-- Engine Cylinders: integer (nullable = true)\n",
      " |-- Transmission Type: string (nullable = true)\n",
      " |-- Driven_Wheels: string (nullable = true)\n",
      " |-- Number of Doors: integer (nullable = true)\n",
      " |-- Market Category: string (nullable = true)\n",
      " |-- Vehicle Size: string (nullable = true)\n",
      " |-- Vehicle Style: string (nullable = true)\n",
      " |-- highway MPG: integer (nullable = true)\n",
      " |-- city mpg: integer (nullable = true)\n",
      " |-- Popularity: integer (nullable = true)\n",
      " |-- MSRP: integer (nullable = true)\n",
      "\n"
     ]
    }
   ],
   "source": [
    "data.printSchema()"
   ]
  },
  {
   "cell_type": "code",
   "execution_count": 36,
   "metadata": {},
   "outputs": [
    {
     "data": {
      "text/html": [
       "<div>\n",
       "<style scoped>\n",
       "    .dataframe tbody tr th:only-of-type {\n",
       "        vertical-align: middle;\n",
       "    }\n",
       "\n",
       "    .dataframe tbody tr th {\n",
       "        vertical-align: top;\n",
       "    }\n",
       "\n",
       "    .dataframe thead th {\n",
       "        text-align: right;\n",
       "    }\n",
       "</style>\n",
       "<table border=\"1\" class=\"dataframe\">\n",
       "  <thead>\n",
       "    <tr style=\"text-align: right;\">\n",
       "      <th></th>\n",
       "      <th>0</th>\n",
       "      <th>1</th>\n",
       "      <th>2</th>\n",
       "      <th>3</th>\n",
       "      <th>4</th>\n",
       "    </tr>\n",
       "  </thead>\n",
       "  <tbody>\n",
       "    <tr>\n",
       "      <th>summary</th>\n",
       "      <td>count</td>\n",
       "      <td>mean</td>\n",
       "      <td>stddev</td>\n",
       "      <td>min</td>\n",
       "      <td>max</td>\n",
       "    </tr>\n",
       "    <tr>\n",
       "      <th>Make</th>\n",
       "      <td>11914</td>\n",
       "      <td>None</td>\n",
       "      <td>None</td>\n",
       "      <td>Acura</td>\n",
       "      <td>Volvo</td>\n",
       "    </tr>\n",
       "    <tr>\n",
       "      <th>Model</th>\n",
       "      <td>11914</td>\n",
       "      <td>745.5822222222222</td>\n",
       "      <td>1490.8280590623795</td>\n",
       "      <td>1 Series</td>\n",
       "      <td>xD</td>\n",
       "    </tr>\n",
       "    <tr>\n",
       "      <th>Year</th>\n",
       "      <td>11914</td>\n",
       "      <td>2010.384337753903</td>\n",
       "      <td>7.5797398875957995</td>\n",
       "      <td>1990</td>\n",
       "      <td>2017</td>\n",
       "    </tr>\n",
       "    <tr>\n",
       "      <th>Engine Fuel Type</th>\n",
       "      <td>11911</td>\n",
       "      <td>None</td>\n",
       "      <td>None</td>\n",
       "      <td>diesel</td>\n",
       "      <td>regular unleaded</td>\n",
       "    </tr>\n",
       "    <tr>\n",
       "      <th>Engine HP</th>\n",
       "      <td>11845</td>\n",
       "      <td>249.38607007176023</td>\n",
       "      <td>109.19187025917194</td>\n",
       "      <td>55</td>\n",
       "      <td>1001</td>\n",
       "    </tr>\n",
       "    <tr>\n",
       "      <th>Engine Cylinders</th>\n",
       "      <td>11884</td>\n",
       "      <td>5.628828677213059</td>\n",
       "      <td>1.78055934824622</td>\n",
       "      <td>0</td>\n",
       "      <td>16</td>\n",
       "    </tr>\n",
       "    <tr>\n",
       "      <th>Transmission Type</th>\n",
       "      <td>11914</td>\n",
       "      <td>None</td>\n",
       "      <td>None</td>\n",
       "      <td>AUTOMATED_MANUAL</td>\n",
       "      <td>UNKNOWN</td>\n",
       "    </tr>\n",
       "    <tr>\n",
       "      <th>Driven_Wheels</th>\n",
       "      <td>11914</td>\n",
       "      <td>None</td>\n",
       "      <td>None</td>\n",
       "      <td>all wheel drive</td>\n",
       "      <td>rear wheel drive</td>\n",
       "    </tr>\n",
       "    <tr>\n",
       "      <th>Number of Doors</th>\n",
       "      <td>11908</td>\n",
       "      <td>3.4360933825999327</td>\n",
       "      <td>0.8813153865835529</td>\n",
       "      <td>2</td>\n",
       "      <td>4</td>\n",
       "    </tr>\n",
       "    <tr>\n",
       "      <th>Market Category</th>\n",
       "      <td>11914</td>\n",
       "      <td>None</td>\n",
       "      <td>None</td>\n",
       "      <td>Crossover</td>\n",
       "      <td>Performance,Hybrid</td>\n",
       "    </tr>\n",
       "    <tr>\n",
       "      <th>Vehicle Size</th>\n",
       "      <td>11914</td>\n",
       "      <td>None</td>\n",
       "      <td>None</td>\n",
       "      <td>Compact</td>\n",
       "      <td>Midsize</td>\n",
       "    </tr>\n",
       "    <tr>\n",
       "      <th>Vehicle Style</th>\n",
       "      <td>11914</td>\n",
       "      <td>None</td>\n",
       "      <td>None</td>\n",
       "      <td>2dr Hatchback</td>\n",
       "      <td>Wagon</td>\n",
       "    </tr>\n",
       "    <tr>\n",
       "      <th>highway MPG</th>\n",
       "      <td>11914</td>\n",
       "      <td>26.637485311398354</td>\n",
       "      <td>8.863000766979422</td>\n",
       "      <td>12</td>\n",
       "      <td>354</td>\n",
       "    </tr>\n",
       "    <tr>\n",
       "      <th>city mpg</th>\n",
       "      <td>11914</td>\n",
       "      <td>19.73325499412456</td>\n",
       "      <td>8.987798160299237</td>\n",
       "      <td>7</td>\n",
       "      <td>137</td>\n",
       "    </tr>\n",
       "    <tr>\n",
       "      <th>Popularity</th>\n",
       "      <td>11914</td>\n",
       "      <td>1554.9111969111968</td>\n",
       "      <td>1441.8553466274648</td>\n",
       "      <td>2</td>\n",
       "      <td>5657</td>\n",
       "    </tr>\n",
       "    <tr>\n",
       "      <th>MSRP</th>\n",
       "      <td>11914</td>\n",
       "      <td>40594.737032063116</td>\n",
       "      <td>60109.10360365422</td>\n",
       "      <td>2000</td>\n",
       "      <td>2065902</td>\n",
       "    </tr>\n",
       "  </tbody>\n",
       "</table>\n",
       "</div>"
      ],
      "text/plain": [
       "                       0                   1                   2  \\\n",
       "summary            count                mean              stddev   \n",
       "Make               11914                None                None   \n",
       "Model              11914   745.5822222222222  1490.8280590623795   \n",
       "Year               11914   2010.384337753903  7.5797398875957995   \n",
       "Engine Fuel Type   11911                None                None   \n",
       "Engine HP          11845  249.38607007176023  109.19187025917194   \n",
       "Engine Cylinders   11884   5.628828677213059    1.78055934824622   \n",
       "Transmission Type  11914                None                None   \n",
       "Driven_Wheels      11914                None                None   \n",
       "Number of Doors    11908  3.4360933825999327  0.8813153865835529   \n",
       "Market Category    11914                None                None   \n",
       "Vehicle Size       11914                None                None   \n",
       "Vehicle Style      11914                None                None   \n",
       "highway MPG        11914  26.637485311398354   8.863000766979422   \n",
       "city mpg           11914   19.73325499412456   8.987798160299237   \n",
       "Popularity         11914  1554.9111969111968  1441.8553466274648   \n",
       "MSRP               11914  40594.737032063116   60109.10360365422   \n",
       "\n",
       "                                  3                   4  \n",
       "summary                         min                 max  \n",
       "Make                          Acura               Volvo  \n",
       "Model                      1 Series                  xD  \n",
       "Year                           1990                2017  \n",
       "Engine Fuel Type             diesel    regular unleaded  \n",
       "Engine HP                        55                1001  \n",
       "Engine Cylinders                  0                  16  \n",
       "Transmission Type  AUTOMATED_MANUAL             UNKNOWN  \n",
       "Driven_Wheels       all wheel drive    rear wheel drive  \n",
       "Number of Doors                   2                   4  \n",
       "Market Category           Crossover  Performance,Hybrid  \n",
       "Vehicle Size                Compact             Midsize  \n",
       "Vehicle Style         2dr Hatchback               Wagon  \n",
       "highway MPG                      12                 354  \n",
       "city mpg                          7                 137  \n",
       "Popularity                        2                5657  \n",
       "MSRP                           2000             2065902  "
      ]
     },
     "execution_count": 36,
     "metadata": {},
     "output_type": "execute_result"
    }
   ],
   "source": [
    "data.describe().toPandas().transpose()"
   ]
  },
  {
   "cell_type": "code",
   "execution_count": 37,
   "metadata": {},
   "outputs": [],
   "source": [
    "def replace(column, value):\n",
    "    return when(column != value,column).otherwise(lit(None))"
   ]
  },
  {
   "cell_type": "code",
   "execution_count": 38,
   "metadata": {},
   "outputs": [],
   "source": [
    "data = data.withColumn('Market Category', replace(col('Market Category'), 'N/A'))"
   ]
  },
  {
   "cell_type": "code",
   "execution_count": 40,
   "metadata": {
    "scrolled": true
   },
   "outputs": [
    {
     "name": "stdout",
     "output_type": "stream",
     "text": [
      "+----+-----+----+----------------+---------+----------------+-----------------+-------------+---------------+---------------+------------+-------------+-----------+--------+----------+----+\n",
      "|Make|Model|Year|Engine Fuel Type|Engine HP|Engine Cylinders|Transmission Type|Driven_Wheels|Number of Doors|Market Category|Vehicle Size|Vehicle Style|highway MPG|city mpg|Popularity|MSRP|\n",
      "+----+-----+----+----------------+---------+----------------+-----------------+-------------+---------------+---------------+------------+-------------+-----------+--------+----------+----+\n",
      "|   0|    0|   0|               3|       69|              30|                0|            0|              6|           3742|           0|            0|          0|       0|         0|   0|\n",
      "+----+-----+----+----------------+---------+----------------+-----------------+-------------+---------------+---------------+------------+-------------+-----------+--------+----------+----+\n",
      "\n"
     ]
    }
   ],
   "source": [
    "data.select([count(when(isnan(c) | col(c).isNull(), c)).alias(c) for c in data.columns]).show()"
   ]
  },
  {
   "cell_type": "code",
   "execution_count": 41,
   "metadata": {
    "scrolled": true
   },
   "outputs": [],
   "source": [
    "data = data.drop('Market Category')\n",
    "data = data.na.drop()"
   ]
  },
  {
   "cell_type": "code",
   "execution_count": 42,
   "metadata": {},
   "outputs": [
    {
     "name": "stdout",
     "output_type": "stream",
     "text": [
      "(11812, 15)\n"
     ]
    }
   ],
   "source": [
    "print((data.count(),len(data.columns)))"
   ]
  },
  {
   "cell_type": "code",
   "execution_count": null,
   "metadata": {},
   "outputs": [],
   "source": []
  }
 ],
 "metadata": {
  "colab": {
   "authorship_tag": "ABX9TyOYLkXox5QzeJDGaGkZJh4n",
   "collapsed_sections": [],
   "name": "complete.ipynb",
   "provenance": []
  },
  "kernelspec": {
   "display_name": "Python 3 (ipykernel)",
   "language": "python",
   "name": "python3"
  },
  "language_info": {
   "codemirror_mode": {
    "name": "ipython",
    "version": 3
   },
   "file_extension": ".py",
   "mimetype": "text/x-python",
   "name": "python",
   "nbconvert_exporter": "python",
   "pygments_lexer": "ipython3",
   "version": "3.10.11"
  }
 },
 "nbformat": 4,
 "nbformat_minor": 4
}
